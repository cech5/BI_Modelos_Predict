{
 "cells": [
  {
   "cell_type": "markdown",
   "metadata": {},
   "source": [
    "# Support Vector Regression Models, (Lineal, Polinomial, RBF)"
   ]
  },
  {
   "cell_type": "markdown",
   "metadata": {
    "id": "JMmjL1LMDq9j"
   },
   "source": [
    "### Importamos las librerias a usar"
   ]
  },
  {
   "cell_type": "code",
   "execution_count": 1,
   "metadata": {
    "_kg_hide-input": false,
    "id": "WUgR1cSGCqNZ",
    "jupyter": {
     "outputs_hidden": false
    }
   },
   "outputs": [],
   "source": [
    "import csv\n",
    "import pandas as pd\n",
    "import numpy as np\n",
    "from sklearn.svm import SVR\n",
    "import matplotlib.pyplot as plt\n"
   ]
  },
  {
   "cell_type": "markdown",
   "metadata": {},
   "source": [
    "### Cargamos y leemos la data"
   ]
  },
  {
   "cell_type": "code",
   "execution_count": 10,
   "metadata": {},
   "outputs": [
    {
     "data": {
      "text/html": [
       "<div>\n",
       "<style scoped>\n",
       "    .dataframe tbody tr th:only-of-type {\n",
       "        vertical-align: middle;\n",
       "    }\n",
       "\n",
       "    .dataframe tbody tr th {\n",
       "        vertical-align: top;\n",
       "    }\n",
       "\n",
       "    .dataframe thead th {\n",
       "        text-align: right;\n",
       "    }\n",
       "</style>\n",
       "<table border=\"1\" class=\"dataframe\">\n",
       "  <thead>\n",
       "    <tr style=\"text-align: right;\">\n",
       "      <th></th>\n",
       "      <th>Date</th>\n",
       "      <th>Open</th>\n",
       "      <th>High</th>\n",
       "      <th>Low</th>\n",
       "      <th>Close</th>\n",
       "      <th>Adj Close</th>\n",
       "      <th>Volume</th>\n",
       "    </tr>\n",
       "  </thead>\n",
       "  <tbody>\n",
       "    <tr>\n",
       "      <th>0</th>\n",
       "      <td>2021-07-26</td>\n",
       "      <td>289.000000</td>\n",
       "      <td>289.690002</td>\n",
       "      <td>286.640015</td>\n",
       "      <td>289.049988</td>\n",
       "      <td>286.708832</td>\n",
       "      <td>23176100</td>\n",
       "    </tr>\n",
       "    <tr>\n",
       "      <th>1</th>\n",
       "      <td>2021-07-27</td>\n",
       "      <td>289.429993</td>\n",
       "      <td>289.579987</td>\n",
       "      <td>282.950012</td>\n",
       "      <td>286.540009</td>\n",
       "      <td>284.219208</td>\n",
       "      <td>33604100</td>\n",
       "    </tr>\n",
       "    <tr>\n",
       "      <th>2</th>\n",
       "      <td>2021-07-28</td>\n",
       "      <td>288.989990</td>\n",
       "      <td>290.149994</td>\n",
       "      <td>283.829987</td>\n",
       "      <td>286.220001</td>\n",
       "      <td>283.901764</td>\n",
       "      <td>33566900</td>\n",
       "    </tr>\n",
       "    <tr>\n",
       "      <th>3</th>\n",
       "      <td>2021-07-29</td>\n",
       "      <td>286.239990</td>\n",
       "      <td>288.619995</td>\n",
       "      <td>286.079987</td>\n",
       "      <td>286.500000</td>\n",
       "      <td>284.179535</td>\n",
       "      <td>18168300</td>\n",
       "    </tr>\n",
       "    <tr>\n",
       "      <th>4</th>\n",
       "      <td>2021-07-30</td>\n",
       "      <td>285.170013</td>\n",
       "      <td>286.660004</td>\n",
       "      <td>283.910004</td>\n",
       "      <td>284.910004</td>\n",
       "      <td>282.602417</td>\n",
       "      <td>20944800</td>\n",
       "    </tr>\n",
       "    <tr>\n",
       "      <th>5</th>\n",
       "      <td>2021-08-02</td>\n",
       "      <td>286.359985</td>\n",
       "      <td>286.769989</td>\n",
       "      <td>283.739990</td>\n",
       "      <td>284.820007</td>\n",
       "      <td>282.513153</td>\n",
       "      <td>16267400</td>\n",
       "    </tr>\n",
       "    <tr>\n",
       "      <th>6</th>\n",
       "      <td>2021-08-03</td>\n",
       "      <td>285.420013</td>\n",
       "      <td>287.230011</td>\n",
       "      <td>284.000000</td>\n",
       "      <td>287.119995</td>\n",
       "      <td>284.794525</td>\n",
       "      <td>17879000</td>\n",
       "    </tr>\n",
       "    <tr>\n",
       "      <th>7</th>\n",
       "      <td>2021-08-04</td>\n",
       "      <td>286.220001</td>\n",
       "      <td>287.589996</td>\n",
       "      <td>284.649994</td>\n",
       "      <td>286.510010</td>\n",
       "      <td>284.189423</td>\n",
       "      <td>16191300</td>\n",
       "    </tr>\n",
       "    <tr>\n",
       "      <th>8</th>\n",
       "      <td>2021-08-05</td>\n",
       "      <td>286.880005</td>\n",
       "      <td>289.630005</td>\n",
       "      <td>286.100006</td>\n",
       "      <td>289.519989</td>\n",
       "      <td>287.175018</td>\n",
       "      <td>13900200</td>\n",
       "    </tr>\n",
       "    <tr>\n",
       "      <th>9</th>\n",
       "      <td>2021-08-06</td>\n",
       "      <td>288.510010</td>\n",
       "      <td>289.500000</td>\n",
       "      <td>287.619995</td>\n",
       "      <td>289.459991</td>\n",
       "      <td>287.115540</td>\n",
       "      <td>16589300</td>\n",
       "    </tr>\n",
       "    <tr>\n",
       "      <th>10</th>\n",
       "      <td>2021-08-09</td>\n",
       "      <td>289.750000</td>\n",
       "      <td>291.549988</td>\n",
       "      <td>287.809998</td>\n",
       "      <td>288.329987</td>\n",
       "      <td>285.994659</td>\n",
       "      <td>16117600</td>\n",
       "    </tr>\n",
       "    <tr>\n",
       "      <th>11</th>\n",
       "      <td>2021-08-10</td>\n",
       "      <td>288.799988</td>\n",
       "      <td>289.250000</td>\n",
       "      <td>285.200012</td>\n",
       "      <td>286.440002</td>\n",
       "      <td>284.120026</td>\n",
       "      <td>18616600</td>\n",
       "    </tr>\n",
       "    <tr>\n",
       "      <th>12</th>\n",
       "      <td>2021-08-11</td>\n",
       "      <td>287.209991</td>\n",
       "      <td>288.660004</td>\n",
       "      <td>285.859985</td>\n",
       "      <td>286.950012</td>\n",
       "      <td>284.625885</td>\n",
       "      <td>13955900</td>\n",
       "    </tr>\n",
       "    <tr>\n",
       "      <th>13</th>\n",
       "      <td>2021-08-12</td>\n",
       "      <td>286.630005</td>\n",
       "      <td>289.970001</td>\n",
       "      <td>286.339996</td>\n",
       "      <td>289.809998</td>\n",
       "      <td>287.462708</td>\n",
       "      <td>14561300</td>\n",
       "    </tr>\n",
       "    <tr>\n",
       "      <th>14</th>\n",
       "      <td>2021-08-13</td>\n",
       "      <td>289.480011</td>\n",
       "      <td>292.899994</td>\n",
       "      <td>289.299988</td>\n",
       "      <td>292.850006</td>\n",
       "      <td>290.478119</td>\n",
       "      <td>18249000</td>\n",
       "    </tr>\n",
       "    <tr>\n",
       "      <th>15</th>\n",
       "      <td>2021-08-16</td>\n",
       "      <td>293.190002</td>\n",
       "      <td>294.820007</td>\n",
       "      <td>290.019989</td>\n",
       "      <td>294.600006</td>\n",
       "      <td>292.213898</td>\n",
       "      <td>22507600</td>\n",
       "    </tr>\n",
       "    <tr>\n",
       "      <th>16</th>\n",
       "      <td>2021-08-17</td>\n",
       "      <td>292.390015</td>\n",
       "      <td>293.429993</td>\n",
       "      <td>291.079987</td>\n",
       "      <td>293.079987</td>\n",
       "      <td>290.706207</td>\n",
       "      <td>20075300</td>\n",
       "    </tr>\n",
       "    <tr>\n",
       "      <th>17</th>\n",
       "      <td>2021-08-18</td>\n",
       "      <td>292.040009</td>\n",
       "      <td>294.820007</td>\n",
       "      <td>290.269989</td>\n",
       "      <td>290.730011</td>\n",
       "      <td>288.927338</td>\n",
       "      <td>21813000</td>\n",
       "    </tr>\n",
       "    <tr>\n",
       "      <th>18</th>\n",
       "      <td>2021-08-19</td>\n",
       "      <td>288.690002</td>\n",
       "      <td>297.470001</td>\n",
       "      <td>288.640015</td>\n",
       "      <td>296.769989</td>\n",
       "      <td>294.929871</td>\n",
       "      <td>29850500</td>\n",
       "    </tr>\n",
       "    <tr>\n",
       "      <th>19</th>\n",
       "      <td>2021-08-20</td>\n",
       "      <td>299.720001</td>\n",
       "      <td>305.839996</td>\n",
       "      <td>298.059998</td>\n",
       "      <td>304.359985</td>\n",
       "      <td>302.472778</td>\n",
       "      <td>40817600</td>\n",
       "    </tr>\n",
       "  </tbody>\n",
       "</table>\n",
       "</div>"
      ],
      "text/plain": [
       "          Date        Open        High         Low       Close   Adj Close  \\\n",
       "0   2021-07-26  289.000000  289.690002  286.640015  289.049988  286.708832   \n",
       "1   2021-07-27  289.429993  289.579987  282.950012  286.540009  284.219208   \n",
       "2   2021-07-28  288.989990  290.149994  283.829987  286.220001  283.901764   \n",
       "3   2021-07-29  286.239990  288.619995  286.079987  286.500000  284.179535   \n",
       "4   2021-07-30  285.170013  286.660004  283.910004  284.910004  282.602417   \n",
       "5   2021-08-02  286.359985  286.769989  283.739990  284.820007  282.513153   \n",
       "6   2021-08-03  285.420013  287.230011  284.000000  287.119995  284.794525   \n",
       "7   2021-08-04  286.220001  287.589996  284.649994  286.510010  284.189423   \n",
       "8   2021-08-05  286.880005  289.630005  286.100006  289.519989  287.175018   \n",
       "9   2021-08-06  288.510010  289.500000  287.619995  289.459991  287.115540   \n",
       "10  2021-08-09  289.750000  291.549988  287.809998  288.329987  285.994659   \n",
       "11  2021-08-10  288.799988  289.250000  285.200012  286.440002  284.120026   \n",
       "12  2021-08-11  287.209991  288.660004  285.859985  286.950012  284.625885   \n",
       "13  2021-08-12  286.630005  289.970001  286.339996  289.809998  287.462708   \n",
       "14  2021-08-13  289.480011  292.899994  289.299988  292.850006  290.478119   \n",
       "15  2021-08-16  293.190002  294.820007  290.019989  294.600006  292.213898   \n",
       "16  2021-08-17  292.390015  293.429993  291.079987  293.079987  290.706207   \n",
       "17  2021-08-18  292.040009  294.820007  290.269989  290.730011  288.927338   \n",
       "18  2021-08-19  288.690002  297.470001  288.640015  296.769989  294.929871   \n",
       "19  2021-08-20  299.720001  305.839996  298.059998  304.359985  302.472778   \n",
       "\n",
       "      Volume  \n",
       "0   23176100  \n",
       "1   33604100  \n",
       "2   33566900  \n",
       "3   18168300  \n",
       "4   20944800  \n",
       "5   16267400  \n",
       "6   17879000  \n",
       "7   16191300  \n",
       "8   13900200  \n",
       "9   16589300  \n",
       "10  16117600  \n",
       "11  18616600  \n",
       "12  13955900  \n",
       "13  14561300  \n",
       "14  18249000  \n",
       "15  22507600  \n",
       "16  20075300  \n",
       "17  21813000  \n",
       "18  29850500  \n",
       "19  40817600  "
      ]
     },
     "execution_count": 10,
     "metadata": {},
     "output_type": "execute_result"
    }
   ],
   "source": [
    "data = pd.read_csv('./MSFT.csv')\n",
    "data = data.head(20)\n",
    "data"
   ]
  },
  {
   "cell_type": "markdown",
   "metadata": {},
   "source": [
    "### Definimos arrays para 'dfdates' y 'dfprices'"
   ]
  },
  {
   "cell_type": "code",
   "execution_count": 3,
   "metadata": {},
   "outputs": [],
   "source": [
    "dfdates  = []\n",
    "dfprices = []"
   ]
  },
  {
   "cell_type": "markdown",
   "metadata": {},
   "source": [
    "## Vemos si se guardo correctamente"
   ]
  },
  {
   "cell_type": "code",
   "execution_count": 8,
   "metadata": {},
   "outputs": [
    {
     "data": {
      "text/plain": [
       "([1.0,\n",
       "  2.0,\n",
       "  3.0,\n",
       "  4.0,\n",
       "  5.0,\n",
       "  6.0,\n",
       "  7.0,\n",
       "  8.0,\n",
       "  9.0,\n",
       "  10.0,\n",
       "  11.0,\n",
       "  12.0,\n",
       "  13.0,\n",
       "  14.0,\n",
       "  15.0,\n",
       "  16.0,\n",
       "  17.0,\n",
       "  18.0,\n",
       "  19.0],\n",
       " [299.720001,\n",
       "  288.690002,\n",
       "  292.040009,\n",
       "  292.390015,\n",
       "  293.190002,\n",
       "  289.480011,\n",
       "  286.630005,\n",
       "  287.209991,\n",
       "  288.799988,\n",
       "  289.75,\n",
       "  288.51001,\n",
       "  286.880005,\n",
       "  286.220001,\n",
       "  285.420013,\n",
       "  286.359985,\n",
       "  285.170013,\n",
       "  286.23999,\n",
       "  288.98999,\n",
       "  289.429993])"
      ]
     },
     "execution_count": 8,
     "metadata": {},
     "output_type": "execute_result"
    }
   ],
   "source": [
    "dfdates , dfprices "
   ]
  },
  {
   "cell_type": "markdown",
   "metadata": {
    "id": "ReEch1dSEvkI"
   },
   "source": [
    "### Funciones para trabajar con nuestra data"
   ]
  },
  {
   "cell_type": "code",
   "execution_count": 4,
   "metadata": {
    "id": "1y51NQTwExyV"
   },
   "outputs": [],
   "source": [
    "#Funcion para trabajar con pandas\n",
    "def gd(dataframe):\n",
    "    i = 1.0\n",
    "    while i < len(dataframe):\n",
    "        a = dataframe.xs(i)\n",
    "        #print(a)\n",
    "        dfdates.append(i)\n",
    "        #print(dates)\n",
    "        dfprices.append(a[1])\n",
    "        i += 1\n",
    "    return\n",
    "\n",
    "\n",
    "#Funcion para trabajar localmente con archivos csv\n",
    "def get_data(filename):\n",
    "    with open(filename, 'r') as csvfile:\n",
    "        csvFileReader = csv.reader(csvfile)\n",
    "        next(csvFileReader)\t# skipping column names\n",
    "        i = 1.0\n",
    "        for row in csvFileReader:\n",
    "            csvdates.append(i)\n",
    "            #print(dates)\n",
    "            csvprices.append(float(row[1]))\n",
    "            i += 1\n",
    "    return"
   ]
  },
  {
   "cell_type": "markdown",
   "metadata": {
    "id": "-_4L4pcOErgy"
   },
   "source": [
    "### Función predictora"
   ]
  },
  {
   "cell_type": "code",
   "execution_count": 5,
   "metadata": {
    "id": "ls9wOeX0Enm2"
   },
   "outputs": [],
   "source": [
    "#Funcion predictora de precios\n",
    "def predict_prices(dates, prices, x):\n",
    "    dates = np.reshape(dates,(len(dates), 1)) # converting to matrix of n X 1\n",
    "\n",
    "    svr_lin = SVR(kernel= 'linear', C= 1e3)\n",
    "    svr_poly = SVR(kernel= 'poly', C= 1e3, degree= 2)\n",
    "    svr_rbf = SVR(kernel= 'rbf', C= 1e3, gamma= 0.1) # defining the support vector regression models\n",
    "    svr_rbf.fit(dates, prices) # fitting the data points in the models\n",
    "    svr_lin.fit(dates, prices)\n",
    "    svr_poly.fit(dates, prices)\n",
    "\n",
    "    plt.scatter(dates, prices, color= 'black', label= 'Data') # plotting the initial datapoints\n",
    "    plt.plot(dates, svr_rbf.predict(dates), color= 'red', label= 'RBF model') # plotting the line made by the RBF kernel\n",
    "    plt.plot(dates,svr_lin.predict(dates), color= 'green', label= 'Linear model') # plotting the line made by linear kernel\n",
    "    plt.plot(dates,svr_poly.predict(dates), color= 'blue', label= 'Polynomial model') # plotting the line made by polynomial kernel\n",
    "    plt.xlabel('Date')\n",
    "    plt.ylabel('Price')\n",
    "    plt.title('Support Vector Regression')\n",
    "    plt.legend()\n",
    "    plt.show()\n",
    "\n",
    "    #Retornamos los precios predecidos según la fecha\n",
    "    return svr_rbf.predict(dates)[0], svr_lin.predict(dates)[0], svr_poly.predict(dates)[0]\n"
   ]
  },
  {
   "cell_type": "markdown",
   "metadata": {
    "id": "kXjbWY6nEih3"
   },
   "source": [
    "### Hacemos la predicción y mostramos los valores finales"
   ]
  },
  {
   "cell_type": "code",
   "execution_count": 6,
   "metadata": {
    "colab": {
     "base_uri": "https://localhost:8080/",
     "height": 313
    },
    "id": "WQFI2TuCEe0Q",
    "outputId": "3a74c7b2-2541-42d2-a552-fe14cb1c7d3f"
   },
   "outputs": [
    {
     "data": {
      "image/png": "[encoded data removed]",
      "text/plain": [
       "<Figure size 432x288 with 1 Axes>"
      ]
     },
     "metadata": {
      "needs_background": "light"
     },
     "output_type": "display_data"
    },
    {
     "name": "stdout",
     "output_type": "stream",
     "text": [
      "RBF: 299.6197862358488 LIN: 292.1533253333329 POLY: 289.95783078316305\n"
     ]
    }
   ],
   "source": [
    "gd(data)\n",
    "\n",
    "#La lista de precios a la inversa\n",
    "dfprices.reverse()\n",
    "\n",
    "#Modelo de entrenamiento\n",
    "\n",
    "predicted_price = predict_prices(dfdates, dfprices, 20)\n",
    "\n",
    "#Imprimimos los valores que nos devuelve la función predicitora\n",
    "print(\"RBF:\", predicted_price[0],\"LIN:\", predicted_price[1],\"POLY:\", predicted_price[2])"
   ]
  },
  {
   "cell_type": "code",
   "execution_count": null,
   "metadata": {},
   "outputs": [],
   "source": []
  }
 ],
 "metadata": {
  "colab": {
   "name": "Notebook_stock_prediction_support_vector_regression_model.ipynb",
   "provenance": []
  },
  "kernelspec": {
   "display_name": "Python 3 (ipykernel)",
   "language": "python",
   "name": "python3"
  },
  "language_info": {
   "codemirror_mode": {
    "name": "ipython",
    "version": 3
   },
   "file_extension": ".py",
   "mimetype": "text/x-python",
   "name": "python",
   "nbconvert_exporter": "python",
   "pygments_lexer": "ipython3",
   "version": "3.9.7"
  }
 },
 "nbformat": 4,
 "nbformat_minor": 1
}
